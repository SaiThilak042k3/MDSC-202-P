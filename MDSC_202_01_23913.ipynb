{
  "nbformat": 4,
  "nbformat_minor": 0,
  "metadata": {
    "colab": {
      "provenance": []
    },
    "kernelspec": {
      "name": "ir",
      "display_name": "R"
    },
    "language_info": {
      "name": "R"
    }
  },
  "cells": [
    {
      "cell_type": "markdown",
      "source": [
        "#**Basic operation in R**\n",
        "\n",
        "###**Assignment - 01**\n",
        "\n",
        "*-23913*"
      ],
      "metadata": {
        "id": "qUSUXK0WmpOy"
      }
    },
    {
      "cell_type": "code",
      "source": [
        "# Creating a matrix in R\n",
        "A <- matrix(data=c(-3,2,893,0.17),nrow=2,ncol=2)\n",
        "A # printing the matrix (by default col wise)"
      ],
      "metadata": {
        "colab": {
          "base_uri": "https://localhost:8080/",
          "height": 114
        },
        "id": "K3kjCPD8ja7L",
        "outputId": "fdd7da6d-520a-4b09-e2d8-23aefb412530"
      },
      "execution_count": 1,
      "outputs": [
        {
          "output_type": "display_data",
          "data": {
            "text/html": [
              "<table class=\"dataframe\">\n",
              "<caption>A matrix: 2 × 2 of type dbl</caption>\n",
              "<tbody>\n",
              "\t<tr><td>-3</td><td>893.00</td></tr>\n",
              "\t<tr><td> 2</td><td>  0.17</td></tr>\n",
              "</tbody>\n",
              "</table>\n"
            ],
            "text/markdown": "\nA matrix: 2 × 2 of type dbl\n\n| -3 | 893.00 |\n|  2 |   0.17 |\n\n",
            "text/latex": "A matrix: 2 × 2 of type dbl\n\\begin{tabular}{ll}\n\t -3 & 893.00\\\\\n\t  2 &   0.17\\\\\n\\end{tabular}\n",
            "text/plain": [
              "     [,1] [,2]  \n",
              "[1,] -3   893.00\n",
              "[2,]  2     0.17"
            ]
          },
          "metadata": {}
        }
      ]
    },
    {
      "cell_type": "code",
      "source": [
        "# Matrix Structure\n",
        "matrix(data = c(1,2,3,4,5,6),nrow=2,ncol=3,byrow=TRUE) # row wise\n",
        "matrix(data = c(1,2,3,4,5,6),nrow=2,ncol=3,byrow=FALSE) # col wise"
      ],
      "metadata": {
        "colab": {
          "base_uri": "https://localhost:8080/",
          "height": 246
        },
        "id": "_fo4ksNcjjD4",
        "outputId": "3760047a-dabb-4bed-82c4-5dbbf30e2942"
      },
      "execution_count": 2,
      "outputs": [
        {
          "output_type": "display_data",
          "data": {
            "text/html": [
              "<table class=\"dataframe\">\n",
              "<caption>A matrix: 2 × 3 of type dbl</caption>\n",
              "<tbody>\n",
              "\t<tr><td>1</td><td>2</td><td>3</td></tr>\n",
              "\t<tr><td>4</td><td>5</td><td>6</td></tr>\n",
              "</tbody>\n",
              "</table>\n"
            ],
            "text/markdown": "\nA matrix: 2 × 3 of type dbl\n\n| 1 | 2 | 3 |\n| 4 | 5 | 6 |\n\n",
            "text/latex": "A matrix: 2 × 3 of type dbl\n\\begin{tabular}{lll}\n\t 1 & 2 & 3\\\\\n\t 4 & 5 & 6\\\\\n\\end{tabular}\n",
            "text/plain": [
              "     [,1] [,2] [,3]\n",
              "[1,] 1    2    3   \n",
              "[2,] 4    5    6   "
            ]
          },
          "metadata": {}
        },
        {
          "output_type": "display_data",
          "data": {
            "text/html": [
              "<table class=\"dataframe\">\n",
              "<caption>A matrix: 2 × 3 of type dbl</caption>\n",
              "<tbody>\n",
              "\t<tr><td>1</td><td>3</td><td>5</td></tr>\n",
              "\t<tr><td>2</td><td>4</td><td>6</td></tr>\n",
              "</tbody>\n",
              "</table>\n"
            ],
            "text/markdown": "\nA matrix: 2 × 3 of type dbl\n\n| 1 | 3 | 5 |\n| 2 | 4 | 6 |\n\n",
            "text/latex": "A matrix: 2 × 3 of type dbl\n\\begin{tabular}{lll}\n\t 1 & 3 & 5\\\\\n\t 2 & 4 & 6\\\\\n\\end{tabular}\n",
            "text/plain": [
              "     [,1] [,2] [,3]\n",
              "[1,] 1    3    5   \n",
              "[2,] 2    4    6   "
            ]
          },
          "metadata": {}
        }
      ]
    },
    {
      "cell_type": "code",
      "source": [
        "# Arranging multiple vectors in array\n",
        "rbind(1:3,4:6) # 1:3 in first row and 4:6 in second row\n",
        "cbind(c(1,4),c(2,5),c(3,6)) # 1,4 in col1; 2,5 in col2 and 3,6 in col3"
      ],
      "metadata": {
        "colab": {
          "base_uri": "https://localhost:8080/",
          "height": 246
        },
        "id": "hxiZXsotjmOj",
        "outputId": "a8dab79a-826b-40f9-f018-e092e267ac29"
      },
      "execution_count": 3,
      "outputs": [
        {
          "output_type": "display_data",
          "data": {
            "text/html": [
              "<table class=\"dataframe\">\n",
              "<caption>A matrix: 2 × 3 of type int</caption>\n",
              "<tbody>\n",
              "\t<tr><td>1</td><td>2</td><td>3</td></tr>\n",
              "\t<tr><td>4</td><td>5</td><td>6</td></tr>\n",
              "</tbody>\n",
              "</table>\n"
            ],
            "text/markdown": "\nA matrix: 2 × 3 of type int\n\n| 1 | 2 | 3 |\n| 4 | 5 | 6 |\n\n",
            "text/latex": "A matrix: 2 × 3 of type int\n\\begin{tabular}{lll}\n\t 1 & 2 & 3\\\\\n\t 4 & 5 & 6\\\\\n\\end{tabular}\n",
            "text/plain": [
              "     [,1] [,2] [,3]\n",
              "[1,] 1    2    3   \n",
              "[2,] 4    5    6   "
            ]
          },
          "metadata": {}
        },
        {
          "output_type": "display_data",
          "data": {
            "text/html": [
              "<table class=\"dataframe\">\n",
              "<caption>A matrix: 2 × 3 of type dbl</caption>\n",
              "<tbody>\n",
              "\t<tr><td>1</td><td>2</td><td>3</td></tr>\n",
              "\t<tr><td>4</td><td>5</td><td>6</td></tr>\n",
              "</tbody>\n",
              "</table>\n"
            ],
            "text/markdown": "\nA matrix: 2 × 3 of type dbl\n\n| 1 | 2 | 3 |\n| 4 | 5 | 6 |\n\n",
            "text/latex": "A matrix: 2 × 3 of type dbl\n\\begin{tabular}{lll}\n\t 1 & 2 & 3\\\\\n\t 4 & 5 & 6\\\\\n\\end{tabular}\n",
            "text/plain": [
              "     [,1] [,2] [,3]\n",
              "[1,] 1    2    3   \n",
              "[2,] 4    5    6   "
            ]
          },
          "metadata": {}
        }
      ]
    },
    {
      "cell_type": "code",
      "source": [
        "# Dimension of a matrix\n",
        "mymat <- rbind(c(1,3,4),5:3,c(100,20,90),11:13)\n",
        "dim(mymat) # gives mat dimension\n",
        "nrow(mymat) # no of rows\n",
        "ncol(mymat) # no of cols\n",
        "dim(mymat)[2] # same as no of cols\n"
      ],
      "metadata": {
        "colab": {
          "base_uri": "https://localhost:8080/",
          "height": 86
        },
        "id": "oUjUx1LfjoDC",
        "outputId": "5d92eb97-b49a-4e1e-8000-fd2b06e95f93"
      },
      "execution_count": 4,
      "outputs": [
        {
          "output_type": "display_data",
          "data": {
            "text/html": [
              "<style>\n",
              ".list-inline {list-style: none; margin:0; padding: 0}\n",
              ".list-inline>li {display: inline-block}\n",
              ".list-inline>li:not(:last-child)::after {content: \"\\00b7\"; padding: 0 .5ex}\n",
              "</style>\n",
              "<ol class=list-inline><li>4</li><li>3</li></ol>\n"
            ],
            "text/markdown": "1. 4\n2. 3\n\n\n",
            "text/latex": "\\begin{enumerate*}\n\\item 4\n\\item 3\n\\end{enumerate*}\n",
            "text/plain": [
              "[1] 4 3"
            ]
          },
          "metadata": {}
        },
        {
          "output_type": "display_data",
          "data": {
            "text/html": [
              "4"
            ],
            "text/markdown": "4",
            "text/latex": "4",
            "text/plain": [
              "[1] 4"
            ]
          },
          "metadata": {}
        },
        {
          "output_type": "display_data",
          "data": {
            "text/html": [
              "3"
            ],
            "text/markdown": "3",
            "text/latex": "3",
            "text/plain": [
              "[1] 3"
            ]
          },
          "metadata": {}
        },
        {
          "output_type": "display_data",
          "data": {
            "text/html": [
              "3"
            ],
            "text/markdown": "3",
            "text/latex": "3",
            "text/plain": [
              "[1] 3"
            ]
          },
          "metadata": {}
        }
      ]
    },
    {
      "cell_type": "code",
      "source": [
        "#Extracting elements of a matrix\n",
        "A <- matrix(c(0.3,4.5,55.3,91,0.1,105.5,-4.2,8.2,27.9),nrow=3,ncol=3)\n",
        "A"
      ],
      "metadata": {
        "colab": {
          "base_uri": "https://localhost:8080/",
          "height": 146
        },
        "id": "YWu8qP88jqL5",
        "outputId": "100046ae-a0f3-49f5-887a-d659cf4aa0c4"
      },
      "execution_count": 7,
      "outputs": [
        {
          "output_type": "display_data",
          "data": {
            "text/html": [
              "<table class=\"dataframe\">\n",
              "<caption>A matrix: 3 × 3 of type dbl</caption>\n",
              "<tbody>\n",
              "\t<tr><td> 0.3</td><td> 91.0</td><td>-4.2</td></tr>\n",
              "\t<tr><td> 4.5</td><td>  0.1</td><td> 8.2</td></tr>\n",
              "\t<tr><td>55.3</td><td>105.5</td><td>27.9</td></tr>\n",
              "</tbody>\n",
              "</table>\n"
            ],
            "text/markdown": "\nA matrix: 3 × 3 of type dbl\n\n|  0.3 |  91.0 | -4.2 |\n|  4.5 |   0.1 |  8.2 |\n| 55.3 | 105.5 | 27.9 |\n\n",
            "text/latex": "A matrix: 3 × 3 of type dbl\n\\begin{tabular}{lll}\n\t  0.3 &  91.0 & -4.2\\\\\n\t  4.5 &   0.1 &  8.2\\\\\n\t 55.3 & 105.5 & 27.9\\\\\n\\end{tabular}\n",
            "text/plain": [
              "     [,1] [,2]  [,3]\n",
              "[1,]  0.3  91.0 -4.2\n",
              "[2,]  4.5   0.1  8.2\n",
              "[3,] 55.3 105.5 27.9"
            ]
          },
          "metadata": {}
        }
      ]
    },
    {
      "cell_type": "code",
      "source": [
        "diag(x=A) # gives diagonal elements\n",
        "# other operations with rows and cols\n",
        "A[3,2]\n",
        "A[,2]\n",
        "A[2:3,]\n",
        "A[,c(3,1)]\n",
        "A[c(3,1),2:3]"
      ],
      "metadata": {
        "colab": {
          "base_uri": "https://localhost:8080/",
          "height": 392
        },
        "id": "PGny0NB7kWuQ",
        "outputId": "f1a5232b-f4e0-48c8-d695-426b268c21c6"
      },
      "execution_count": 8,
      "outputs": [
        {
          "output_type": "display_data",
          "data": {
            "text/html": [
              "<style>\n",
              ".list-inline {list-style: none; margin:0; padding: 0}\n",
              ".list-inline>li {display: inline-block}\n",
              ".list-inline>li:not(:last-child)::after {content: \"\\00b7\"; padding: 0 .5ex}\n",
              "</style>\n",
              "<ol class=list-inline><li>0.3</li><li>0.1</li><li>27.9</li></ol>\n"
            ],
            "text/markdown": "1. 0.3\n2. 0.1\n3. 27.9\n\n\n",
            "text/latex": "\\begin{enumerate*}\n\\item 0.3\n\\item 0.1\n\\item 27.9\n\\end{enumerate*}\n",
            "text/plain": [
              "[1]  0.3  0.1 27.9"
            ]
          },
          "metadata": {}
        },
        {
          "output_type": "display_data",
          "data": {
            "text/html": [
              "105.5"
            ],
            "text/markdown": "105.5",
            "text/latex": "105.5",
            "text/plain": [
              "[1] 105.5"
            ]
          },
          "metadata": {}
        },
        {
          "output_type": "display_data",
          "data": {
            "text/html": [
              "<style>\n",
              ".list-inline {list-style: none; margin:0; padding: 0}\n",
              ".list-inline>li {display: inline-block}\n",
              ".list-inline>li:not(:last-child)::after {content: \"\\00b7\"; padding: 0 .5ex}\n",
              "</style>\n",
              "<ol class=list-inline><li>91</li><li>0.1</li><li>105.5</li></ol>\n"
            ],
            "text/markdown": "1. 91\n2. 0.1\n3. 105.5\n\n\n",
            "text/latex": "\\begin{enumerate*}\n\\item 91\n\\item 0.1\n\\item 105.5\n\\end{enumerate*}\n",
            "text/plain": [
              "[1]  91.0   0.1 105.5"
            ]
          },
          "metadata": {}
        },
        {
          "output_type": "display_data",
          "data": {
            "text/html": [
              "<table class=\"dataframe\">\n",
              "<caption>A matrix: 2 × 3 of type dbl</caption>\n",
              "<tbody>\n",
              "\t<tr><td> 4.5</td><td>  0.1</td><td> 8.2</td></tr>\n",
              "\t<tr><td>55.3</td><td>105.5</td><td>27.9</td></tr>\n",
              "</tbody>\n",
              "</table>\n"
            ],
            "text/markdown": "\nA matrix: 2 × 3 of type dbl\n\n|  4.5 |   0.1 |  8.2 |\n| 55.3 | 105.5 | 27.9 |\n\n",
            "text/latex": "A matrix: 2 × 3 of type dbl\n\\begin{tabular}{lll}\n\t  4.5 &   0.1 &  8.2\\\\\n\t 55.3 & 105.5 & 27.9\\\\\n\\end{tabular}\n",
            "text/plain": [
              "     [,1] [,2]  [,3]\n",
              "[1,]  4.5   0.1  8.2\n",
              "[2,] 55.3 105.5 27.9"
            ]
          },
          "metadata": {}
        },
        {
          "output_type": "display_data",
          "data": {
            "text/html": [
              "<table class=\"dataframe\">\n",
              "<caption>A matrix: 3 × 2 of type dbl</caption>\n",
              "<tbody>\n",
              "\t<tr><td>-4.2</td><td> 0.3</td></tr>\n",
              "\t<tr><td> 8.2</td><td> 4.5</td></tr>\n",
              "\t<tr><td>27.9</td><td>55.3</td></tr>\n",
              "</tbody>\n",
              "</table>\n"
            ],
            "text/markdown": "\nA matrix: 3 × 2 of type dbl\n\n| -4.2 |  0.3 |\n|  8.2 |  4.5 |\n| 27.9 | 55.3 |\n\n",
            "text/latex": "A matrix: 3 × 2 of type dbl\n\\begin{tabular}{ll}\n\t -4.2 &  0.3\\\\\n\t  8.2 &  4.5\\\\\n\t 27.9 & 55.3\\\\\n\\end{tabular}\n",
            "text/plain": [
              "     [,1] [,2]\n",
              "[1,] -4.2  0.3\n",
              "[2,]  8.2  4.5\n",
              "[3,] 27.9 55.3"
            ]
          },
          "metadata": {}
        },
        {
          "output_type": "display_data",
          "data": {
            "text/html": [
              "<table class=\"dataframe\">\n",
              "<caption>A matrix: 2 × 2 of type dbl</caption>\n",
              "<tbody>\n",
              "\t<tr><td>105.5</td><td>27.9</td></tr>\n",
              "\t<tr><td> 91.0</td><td>-4.2</td></tr>\n",
              "</tbody>\n",
              "</table>\n"
            ],
            "text/markdown": "\nA matrix: 2 × 2 of type dbl\n\n| 105.5 | 27.9 |\n|  91.0 | -4.2 |\n\n",
            "text/latex": "A matrix: 2 × 2 of type dbl\n\\begin{tabular}{ll}\n\t 105.5 & 27.9\\\\\n\t  91.0 & -4.2\\\\\n\\end{tabular}\n",
            "text/plain": [
              "     [,1]  [,2]\n",
              "[1,] 105.5 27.9\n",
              "[2,]  91.0 -4.2"
            ]
          },
          "metadata": {}
        }
      ]
    },
    {
      "cell_type": "code",
      "source": [
        "# Manipulating Matrix\n",
        "A[,-2] # remove 2nd col\n",
        "A[-1,3:2]\n",
        "A[-1,-2]\n",
        "A[-1,-c(2,3)]"
      ],
      "metadata": {
        "colab": {
          "base_uri": "https://localhost:8080/",
          "height": 358
        },
        "id": "YtKsKoQ6kWmw",
        "outputId": "c7847c5e-c1a4-4ac3-9d77-a970976e5700"
      },
      "execution_count": 9,
      "outputs": [
        {
          "output_type": "display_data",
          "data": {
            "text/html": [
              "<table class=\"dataframe\">\n",
              "<caption>A matrix: 3 × 2 of type dbl</caption>\n",
              "<tbody>\n",
              "\t<tr><td> 0.3</td><td>-4.2</td></tr>\n",
              "\t<tr><td> 4.5</td><td> 8.2</td></tr>\n",
              "\t<tr><td>55.3</td><td>27.9</td></tr>\n",
              "</tbody>\n",
              "</table>\n"
            ],
            "text/markdown": "\nA matrix: 3 × 2 of type dbl\n\n|  0.3 | -4.2 |\n|  4.5 |  8.2 |\n| 55.3 | 27.9 |\n\n",
            "text/latex": "A matrix: 3 × 2 of type dbl\n\\begin{tabular}{ll}\n\t  0.3 & -4.2\\\\\n\t  4.5 &  8.2\\\\\n\t 55.3 & 27.9\\\\\n\\end{tabular}\n",
            "text/plain": [
              "     [,1] [,2]\n",
              "[1,]  0.3 -4.2\n",
              "[2,]  4.5  8.2\n",
              "[3,] 55.3 27.9"
            ]
          },
          "metadata": {}
        },
        {
          "output_type": "display_data",
          "data": {
            "text/html": [
              "<table class=\"dataframe\">\n",
              "<caption>A matrix: 2 × 2 of type dbl</caption>\n",
              "<tbody>\n",
              "\t<tr><td> 8.2</td><td>  0.1</td></tr>\n",
              "\t<tr><td>27.9</td><td>105.5</td></tr>\n",
              "</tbody>\n",
              "</table>\n"
            ],
            "text/markdown": "\nA matrix: 2 × 2 of type dbl\n\n|  8.2 |   0.1 |\n| 27.9 | 105.5 |\n\n",
            "text/latex": "A matrix: 2 × 2 of type dbl\n\\begin{tabular}{ll}\n\t  8.2 &   0.1\\\\\n\t 27.9 & 105.5\\\\\n\\end{tabular}\n",
            "text/plain": [
              "     [,1] [,2] \n",
              "[1,]  8.2   0.1\n",
              "[2,] 27.9 105.5"
            ]
          },
          "metadata": {}
        },
        {
          "output_type": "display_data",
          "data": {
            "text/html": [
              "<table class=\"dataframe\">\n",
              "<caption>A matrix: 2 × 2 of type dbl</caption>\n",
              "<tbody>\n",
              "\t<tr><td> 4.5</td><td> 8.2</td></tr>\n",
              "\t<tr><td>55.3</td><td>27.9</td></tr>\n",
              "</tbody>\n",
              "</table>\n"
            ],
            "text/markdown": "\nA matrix: 2 × 2 of type dbl\n\n|  4.5 |  8.2 |\n| 55.3 | 27.9 |\n\n",
            "text/latex": "A matrix: 2 × 2 of type dbl\n\\begin{tabular}{ll}\n\t  4.5 &  8.2\\\\\n\t 55.3 & 27.9\\\\\n\\end{tabular}\n",
            "text/plain": [
              "     [,1] [,2]\n",
              "[1,]  4.5  8.2\n",
              "[2,] 55.3 27.9"
            ]
          },
          "metadata": {}
        },
        {
          "output_type": "display_data",
          "data": {
            "text/html": [
              "<style>\n",
              ".list-inline {list-style: none; margin:0; padding: 0}\n",
              ".list-inline>li {display: inline-block}\n",
              ".list-inline>li:not(:last-child)::after {content: \"\\00b7\"; padding: 0 .5ex}\n",
              "</style>\n",
              "<ol class=list-inline><li>4.5</li><li>55.3</li></ol>\n"
            ],
            "text/markdown": "1. 4.5\n2. 55.3\n\n\n",
            "text/latex": "\\begin{enumerate*}\n\\item 4.5\n\\item 55.3\n\\end{enumerate*}\n",
            "text/plain": [
              "[1]  4.5 55.3"
            ]
          },
          "metadata": {}
        }
      ]
    },
    {
      "cell_type": "code",
      "source": [
        "B <- A # Storing matrix A in B\n",
        "B"
      ],
      "metadata": {
        "colab": {
          "base_uri": "https://localhost:8080/",
          "height": 146
        },
        "id": "bMpjqvWKkcVZ",
        "outputId": "3cdd2541-d7a7-48a4-e03d-80b765b70f16"
      },
      "execution_count": 10,
      "outputs": [
        {
          "output_type": "display_data",
          "data": {
            "text/html": [
              "<table class=\"dataframe\">\n",
              "<caption>A matrix: 3 × 3 of type dbl</caption>\n",
              "<tbody>\n",
              "\t<tr><td> 0.3</td><td> 91.0</td><td>-4.2</td></tr>\n",
              "\t<tr><td> 4.5</td><td>  0.1</td><td> 8.2</td></tr>\n",
              "\t<tr><td>55.3</td><td>105.5</td><td>27.9</td></tr>\n",
              "</tbody>\n",
              "</table>\n"
            ],
            "text/markdown": "\nA matrix: 3 × 3 of type dbl\n\n|  0.3 |  91.0 | -4.2 |\n|  4.5 |   0.1 |  8.2 |\n| 55.3 | 105.5 | 27.9 |\n\n",
            "text/latex": "A matrix: 3 × 3 of type dbl\n\\begin{tabular}{lll}\n\t  0.3 &  91.0 & -4.2\\\\\n\t  4.5 &   0.1 &  8.2\\\\\n\t 55.3 & 105.5 & 27.9\\\\\n\\end{tabular}\n",
            "text/plain": [
              "     [,1] [,2]  [,3]\n",
              "[1,]  0.3  91.0 -4.2\n",
              "[2,]  4.5   0.1  8.2\n",
              "[3,] 55.3 105.5 27.9"
            ]
          },
          "metadata": {}
        }
      ]
    },
    {
      "cell_type": "markdown",
      "source": [
        "Other operations"
      ],
      "metadata": {
        "id": "okRkPfdSkls7"
      }
    },
    {
      "cell_type": "code",
      "source": [
        "B[2,] <- 1:3\n",
        "B"
      ],
      "metadata": {
        "colab": {
          "base_uri": "https://localhost:8080/",
          "height": 146
        },
        "id": "1DzaVNlCkooc",
        "outputId": "7ea8991c-c5f3-405b-8552-682d73ce9782"
      },
      "execution_count": 11,
      "outputs": [
        {
          "output_type": "display_data",
          "data": {
            "text/html": [
              "<table class=\"dataframe\">\n",
              "<caption>A matrix: 3 × 3 of type dbl</caption>\n",
              "<tbody>\n",
              "\t<tr><td> 0.3</td><td> 91.0</td><td>-4.2</td></tr>\n",
              "\t<tr><td> 1.0</td><td>  2.0</td><td> 3.0</td></tr>\n",
              "\t<tr><td>55.3</td><td>105.5</td><td>27.9</td></tr>\n",
              "</tbody>\n",
              "</table>\n"
            ],
            "text/markdown": "\nA matrix: 3 × 3 of type dbl\n\n|  0.3 |  91.0 | -4.2 |\n|  1.0 |   2.0 |  3.0 |\n| 55.3 | 105.5 | 27.9 |\n\n",
            "text/latex": "A matrix: 3 × 3 of type dbl\n\\begin{tabular}{lll}\n\t  0.3 &  91.0 & -4.2\\\\\n\t  1.0 &   2.0 &  3.0\\\\\n\t 55.3 & 105.5 & 27.9\\\\\n\\end{tabular}\n",
            "text/plain": [
              "     [,1] [,2]  [,3]\n",
              "[1,]  0.3  91.0 -4.2\n",
              "[2,]  1.0   2.0  3.0\n",
              "[3,] 55.3 105.5 27.9"
            ]
          },
          "metadata": {}
        }
      ]
    },
    {
      "cell_type": "code",
      "source": [
        "B[c(1,3),2] <- 900\n",
        "B"
      ],
      "metadata": {
        "colab": {
          "base_uri": "https://localhost:8080/",
          "height": 146
        },
        "id": "4tZnnjmckofw",
        "outputId": "a96b162e-33c7-4f23-b177-27cf47036db3"
      },
      "execution_count": 13,
      "outputs": [
        {
          "output_type": "display_data",
          "data": {
            "text/html": [
              "<table class=\"dataframe\">\n",
              "<caption>A matrix: 3 × 3 of type dbl</caption>\n",
              "<tbody>\n",
              "\t<tr><td> 0.3</td><td>900</td><td>-4.2</td></tr>\n",
              "\t<tr><td> 1.0</td><td>  2</td><td> 3.0</td></tr>\n",
              "\t<tr><td>55.3</td><td>900</td><td>27.9</td></tr>\n",
              "</tbody>\n",
              "</table>\n"
            ],
            "text/markdown": "\nA matrix: 3 × 3 of type dbl\n\n|  0.3 | 900 | -4.2 |\n|  1.0 |   2 |  3.0 |\n| 55.3 | 900 | 27.9 |\n\n",
            "text/latex": "A matrix: 3 × 3 of type dbl\n\\begin{tabular}{lll}\n\t  0.3 & 900 & -4.2\\\\\n\t  1.0 &   2 &  3.0\\\\\n\t 55.3 & 900 & 27.9\\\\\n\\end{tabular}\n",
            "text/plain": [
              "     [,1] [,2] [,3]\n",
              "[1,]  0.3 900  -4.2\n",
              "[2,]  1.0   2   3.0\n",
              "[3,] 55.3 900  27.9"
            ]
          },
          "metadata": {}
        }
      ]
    },
    {
      "cell_type": "code",
      "source": [
        "B[,3] <- B[3,]\n",
        "B"
      ],
      "metadata": {
        "colab": {
          "base_uri": "https://localhost:8080/",
          "height": 146
        },
        "id": "gl_oECqJkwh3",
        "outputId": "95145fa2-4c59-44b5-e0c5-bb2eba900f2a"
      },
      "execution_count": 14,
      "outputs": [
        {
          "output_type": "display_data",
          "data": {
            "text/html": [
              "<table class=\"dataframe\">\n",
              "<caption>A matrix: 3 × 3 of type dbl</caption>\n",
              "<tbody>\n",
              "\t<tr><td> 0.3</td><td>900</td><td> 55.3</td></tr>\n",
              "\t<tr><td> 1.0</td><td>  2</td><td>900.0</td></tr>\n",
              "\t<tr><td>55.3</td><td>900</td><td> 27.9</td></tr>\n",
              "</tbody>\n",
              "</table>\n"
            ],
            "text/markdown": "\nA matrix: 3 × 3 of type dbl\n\n|  0.3 | 900 |  55.3 |\n|  1.0 |   2 | 900.0 |\n| 55.3 | 900 |  27.9 |\n\n",
            "text/latex": "A matrix: 3 × 3 of type dbl\n\\begin{tabular}{lll}\n\t  0.3 & 900 &  55.3\\\\\n\t  1.0 &   2 & 900.0\\\\\n\t 55.3 & 900 &  27.9\\\\\n\\end{tabular}\n",
            "text/plain": [
              "     [,1] [,2] [,3] \n",
              "[1,]  0.3 900   55.3\n",
              "[2,]  1.0   2  900.0\n",
              "[3,] 55.3 900   27.9"
            ]
          },
          "metadata": {}
        }
      ]
    },
    {
      "cell_type": "code",
      "source": [
        "B[c(1,3),c(1,3)] <- c(-7,7)\n",
        "B"
      ],
      "metadata": {
        "colab": {
          "base_uri": "https://localhost:8080/",
          "height": 146
        },
        "id": "7kwkpeE-kx4_",
        "outputId": "7214d6d6-a103-4442-b501-4360e22befdf"
      },
      "execution_count": 15,
      "outputs": [
        {
          "output_type": "display_data",
          "data": {
            "text/html": [
              "<table class=\"dataframe\">\n",
              "<caption>A matrix: 3 × 3 of type dbl</caption>\n",
              "<tbody>\n",
              "\t<tr><td>-7</td><td>900</td><td> -7</td></tr>\n",
              "\t<tr><td> 1</td><td>  2</td><td>900</td></tr>\n",
              "\t<tr><td> 7</td><td>900</td><td>  7</td></tr>\n",
              "</tbody>\n",
              "</table>\n"
            ],
            "text/markdown": "\nA matrix: 3 × 3 of type dbl\n\n| -7 | 900 |  -7 |\n|  1 |   2 | 900 |\n|  7 | 900 |   7 |\n\n",
            "text/latex": "A matrix: 3 × 3 of type dbl\n\\begin{tabular}{lll}\n\t -7 & 900 &  -7\\\\\n\t  1 &   2 & 900\\\\\n\t  7 & 900 &   7\\\\\n\\end{tabular}\n",
            "text/plain": [
              "     [,1] [,2] [,3]\n",
              "[1,] -7   900   -7 \n",
              "[2,]  1     2  900 \n",
              "[3,]  7   900    7 "
            ]
          },
          "metadata": {}
        }
      ]
    },
    {
      "cell_type": "code",
      "source": [
        "B[c(1,3),2:1] <- c(65,-65,88,-88)\n",
        "B"
      ],
      "metadata": {
        "colab": {
          "base_uri": "https://localhost:8080/",
          "height": 146
        },
        "id": "voDXXvblml79",
        "outputId": "0eac2842-3363-4866-9b24-6e27a424697a"
      },
      "execution_count": 16,
      "outputs": [
        {
          "output_type": "display_data",
          "data": {
            "text/html": [
              "<table class=\"dataframe\">\n",
              "<caption>A matrix: 3 × 3 of type dbl</caption>\n",
              "<tbody>\n",
              "\t<tr><td> 88</td><td> 65</td><td> -7</td></tr>\n",
              "\t<tr><td>  1</td><td>  2</td><td>900</td></tr>\n",
              "\t<tr><td>-88</td><td>-65</td><td>  7</td></tr>\n",
              "</tbody>\n",
              "</table>\n"
            ],
            "text/markdown": "\nA matrix: 3 × 3 of type dbl\n\n|  88 |  65 |  -7 |\n|   1 |   2 | 900 |\n| -88 | -65 |   7 |\n\n",
            "text/latex": "A matrix: 3 × 3 of type dbl\n\\begin{tabular}{lll}\n\t  88 &  65 &  -7\\\\\n\t   1 &   2 & 900\\\\\n\t -88 & -65 &   7\\\\\n\\end{tabular}\n",
            "text/plain": [
              "     [,1] [,2] [,3]\n",
              "[1,]  88   65   -7 \n",
              "[2,]   1    2  900 \n",
              "[3,] -88  -65    7 "
            ]
          },
          "metadata": {}
        }
      ]
    },
    {
      "cell_type": "code",
      "execution_count": 17,
      "metadata": {
        "colab": {
          "base_uri": "https://localhost:8080/",
          "height": 146
        },
        "id": "G-5peM9Pipt7",
        "outputId": "63dcff62-0c3a-4428-9452-4be36f27f36b"
      },
      "outputs": [
        {
          "output_type": "display_data",
          "data": {
            "text/html": [
              "<table class=\"dataframe\">\n",
              "<caption>A matrix: 3 × 3 of type dbl</caption>\n",
              "<tbody>\n",
              "\t<tr><td>  0</td><td> 65</td><td> -7</td></tr>\n",
              "\t<tr><td>  1</td><td>  0</td><td>900</td></tr>\n",
              "\t<tr><td>-88</td><td>-65</td><td>  0</td></tr>\n",
              "</tbody>\n",
              "</table>\n"
            ],
            "text/markdown": "\nA matrix: 3 × 3 of type dbl\n\n|   0 |  65 |  -7 |\n|   1 |   0 | 900 |\n| -88 | -65 |   0 |\n\n",
            "text/latex": "A matrix: 3 × 3 of type dbl\n\\begin{tabular}{lll}\n\t   0 &  65 &  -7\\\\\n\t   1 &   0 & 900\\\\\n\t -88 & -65 &   0\\\\\n\\end{tabular}\n",
            "text/plain": [
              "     [,1] [,2] [,3]\n",
              "[1,]   0   65   -7 \n",
              "[2,]   1    0  900 \n",
              "[3,] -88  -65    0 "
            ]
          },
          "metadata": {}
        }
      ],
      "source": [
        "# Making diagonal elements as 0's\n",
        "diag(x=B) <- rep(x=0,times=3)\n",
        "B"
      ]
    }
  ]
}